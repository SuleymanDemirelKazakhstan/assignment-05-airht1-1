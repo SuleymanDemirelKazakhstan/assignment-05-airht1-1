import pandas as pd
import numpy as np
from sklearn.model_selection import train_test_split
from sklearn.preprocessing import StandardScaler
from tensorflow.keras.models import Sequential
from tensorflow.keras.layers import Dense
from tensorflow.keras.utils import to_categorical
# Load the dataset
train_data = pd.read_csv("train.csv")
test_data = pd.read_csv("test.csv")

# Preprocessing
X = train_data.drop("label", axis=1).values
y = train_data["label"].values
X_test = test_data.values

# Normalize the data
scaler = StandardScaler()
X = scaler.fit_transform(X)
X_test = scaler.transform(X_test)

# One-hot encode the labels
y = to_categorical(y)

# Split into training and validation sets
X_train, X_val, y_train, y_val = train_test_split(X, y, test_size=0.2, random_state=42)

# Function to build and train a model
def build_and_train_model(neuron_config):
    model = Sequential()
    # Input layer
    model.add(Dense(neuron_config[0], input_dim=784, activation='relu'))
    # Hidden layers
    for neurons in neuron_config[1:-1]:
        model.add(Dense(neurons, activation='relu'))
# Output layer
    model.add(Dense(neuron_config[-1], activation='softmax'))

    model.compile(optimizer='adam', loss='categorical_crossentropy', metrics=['accuracy'])
    model.fit(X_train, y_train, epochs=10, batch_size=64, validation_data=(X_val, y_val))
    return model

# Neural network configurations
configurations = [
    [1000, 10],  # 784 -> 1000 -> 10
    [100, 100, 10],  # 784 -> 100 -> 100 -> 10
    [1000, 10, 10],  # 784 -> 1000 -> 10 -> 10
    [10, 1000, 10]   # 784 -> 10 -> 1000 -> 10
]

# Train models for each configuration
models = {}
for i, config in enumerate(configurations):
    print(f"Training model {i+1} with configuration: {config}")
    models[f"model_{i+1}"] = build_and_train_model(config)

# Use the best model to make predictions on the test set
best_model = models["model_1"]  # You can change this based on validation accuracy
predictions = np.argmax(best_model.predict(X_test), axis=1)

# Create a submission file
submission = pd.DataFrame({
    "ImageId": np.arange(1, len(predictions) + 1),
"Label": predictions
})
submission.to_csv("submission.csv", index=False)

print("Submission file saved as submission.csv")
