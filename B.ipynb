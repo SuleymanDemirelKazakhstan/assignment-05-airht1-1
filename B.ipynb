import pandas as pd
import numpy as np
from sklearn.model_selection import train_test_split
from sklearn.linear_model import LogisticRegression
from sklearn.metrics import precision_score, recall_score, f1_score
import spacy

# Load Spacy model
nlp = spacy.load('en_core_web_md')

# Load IMDB dataset
data = pd.read_csv("IMDB Dataset.csv")

# Preprocess data
def preprocess_text(text):
    doc = nlp(text)
    vectors = [token.vector for token in doc if token.has_vector]
    if vectors:
        return np.mean(vectors, axis=0)
    else:
        return np.zeros((nlp.vocab.vectors_length,))

print("Computing word embeddings for reviews...")
data['vector'] = data['review'].apply(preprocess_text)

# Prepare data for training
X = np.vstack(data['vector'].values)
y = (data['sentiment'] == 'positive').astype(int)  # Convert sentiment to binary: 1 for positive, 0 for negative

# Split into train and test sets
X_train, X_test, y_train, y_test = train_test_split(X, y, test_size=0.2, random_state=42)
# Train Logistic Regression model
print("Training Logistic Regression model...")
model = LogisticRegression(max_iter=1000, random_state=42)
model.fit(X_train, y_train)

# Predict on test set
y_pred = model.predict(X_test)

# Evaluate the model
precision = precision_score(y_test, y_pred)
recall = recall_score(y_test, y_pred)
f1 = f1_score(y_test, y_pred)

print(f"Precision: {precision:.4f}")
print(f"Recall: {recall:.4f}")
print(f"F1 Score: {f1:.4f}")
