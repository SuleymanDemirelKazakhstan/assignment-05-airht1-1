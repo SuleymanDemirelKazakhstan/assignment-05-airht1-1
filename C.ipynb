import pandas as pd
import numpy as np
from sklearn.model_selection import train_test_split
from sklearn.metrics import precision_score, recall_score, f1_score
import spacy
from tensorflow.keras.models import Sequential
from tensorflow.keras.layers import Dense, Dropout
from tensorflow.keras.optimizers import Adam
from tensorflow.keras.utils import to_categorical

# Load Spacy model
nlp = spacy.load('en_core_web_md')

# Load IMDB dataset
data = pd.read_csv("IMDB Dataset.csv")

# Preprocess data
def preprocess_text(text):
    doc = nlp(text)
    vectors = [token.vector for token in doc if token.has_vector]
    if vectors:
        return np.mean(vectors, axis=0)
    else:
        return np.zeros((nlp.vocab.vectors_length,))

print("Computing word embeddings for reviews...")
data['vector'] = data['review'].apply(preprocess_text)

# Prepare data for training
X = np.vstack(data['vector'].values)
y = (data['sentiment'] == 'positive').astype(int)  # Convert sentiment to binary: 1 for positive, 0 for negative
# Split into train and test sets
X_train, X_test, y_train, y_test = train_test_split(X, y, test_size=0.2, random_state=42)

# Convert labels to categorical
num_classes = 2
y_train_cat = to_categorical(y_train, num_classes)
y_test_cat = to_categorical(y_test, num_classes)

# Build neural network model
model = Sequential([
    Dense(128, activation='relu', input_shape=(X.shape[1],)),
    Dropout(0.5),
    Dense(64, activation='relu'),
    Dropout(0.5),
    Dense(num_classes, activation='softmax')
])

# Compile model
model.compile(optimizer=Adam(learning_rate=0.001), 
              loss='categorical_crossentropy', 
              metrics=['accuracy'])

# Train model
print("Training Neural Network...")
model.fit(X_train, y_train_cat, epochs=10, batch_size=32, validation_split=0.2, verbose=1)

# Evaluate model
y_pred_proba = model.predict(X_test)
y_pred = np.argmax(y_pred_proba, axis=1)
# Compute evaluation metrics
precision = precision_score(y_test, y_pred)
recall = recall_score(y_test, y_pred)
f1 = f1_score(y_test, y_pred)

print(f"Precision: {precision:.4f}")
print(f"Recall: {recall:.4f}")
print(f"F1 Score: {f1:.4f}")
